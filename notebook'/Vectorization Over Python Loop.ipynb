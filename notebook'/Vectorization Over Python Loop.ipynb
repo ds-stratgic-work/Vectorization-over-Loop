{
 "cells": [
  {
   "cell_type": "markdown",
   "id": "eb04d46b-e0b5-48b0-9d1c-f6a84ae447a9",
   "metadata": {},
   "source": [
    "# Vectorization Over Python Loop "
   ]
  },
  {
   "cell_type": "markdown",
   "id": "1a0bda3a-81ec-4c11-9c75-706d3dc55f2b",
   "metadata": {},
   "source": [
    "# Table Of Contents\n",
    "[1. Introduction](#1.Introduction)\\\n",
    "[2. NumPy](#2.NumPy)\\\n",
    "[3. Vectorization](#3.-Vectorization)\\\n",
    "[4. Use Cases](#4.-Use_Cases)\\\n",
    "[5. Conclusion](#5.-Conclusion)\n"
   ]
  },
  {
   "cell_type": "markdown",
   "id": "3b9b6994-5e13-4e93-bad0-4249d11a7fc4",
   "metadata": {},
   "source": [
    "# 1. Introduction\n",
    "Applications frequently encounter the challenge of managing substantial volumes of data. However, utilizing non-optimized functions can significantly impede the overall efficiency of the algorithm and lead to a prolonged execution time for the model.\n",
    "\n",
    "To speed up the computational efficiency in our code, we can implement vectorization as a technique. It is imperative to employ standard mathematical functions that facilitate swift operations on extensive arrays of data, eliminating the necessity for explicit loops. \n",
    "\n",
    "### Cause behind the slowness of Loop\n",
    "Loops are often considered a potential cause of slow performance when analyzing code for performance bottlenecks, particularly in Python. The reason loops in Python are slow is due to Python's dynamically typed nature. In Python, the code is processed line by line, compiled into bytecode, and then executed to run the program. However, when there is a loop that iterates over a list, Python faces a challenge because it is dynamically typed. This means that Python does not know the type of objects in the list (whether they are integers, strings, or floats) until it goes through the list.\n",
    "\n",
    "The information about the type of each object is stored within the object itself, and Python cannot determine it in advance. Consequently, during each iteration of the loop, Python has to perform a series of checks, such as : \n",
    "- determining the type of the variable,\n",
    "- resolving its scope, and\n",
    "- checking for invalid operations.\n",
    "\n",
    "This additional overhead can slow down the performance of the loop.\n",
    "\n",
    "# 2. NumPy - Numerical Python\n",
    "NumPy is a library that encompasses these functions, enabling the enhancement of algorithm performance through the utilization of vectorization. NumPy serves as a crucial package for efficient scientific computing and data analysis within the Python ecosystem. It acts as a fundamental component for various higher-level tools like Pandas and Scikit-learn. \n",
    "\n",
    "The speed advantage of NumPy stems from its utilization of vectorized implementation, with many of its core functions being written in C. Unlike Python lists, NumPy arrays are homogeneous arrays that are densely packed. Python lists, on the other hand, are arrays of pointers to objects, even when they share the same type. This distinction allows NumPy arrays to benefit from the locality of reference. Numerous NumPy operations are implemented in C, thereby eliminating the overhead associated with loops, pointer indirection, and per-element dynamic type checking in Python. The extent of performance improvement varies depending on the specific operations being executed.\n",
    "\n",
    "NumPy derives its strength in computation from three main concepts: \n",
    "- Vectorization,\n",
    "- Broadcasting, and\n",
    "- Indexing.\n",
    "\n",
    "\n",
    "# 3. What is Vectorization?\n",
    "While using loops is a common approach for repetitive tasks in programming, it can lead to poor performance and lengthy execution times when dealing with a large number of iterations, such as millions or billions of rows. In such scenarios, implementing vectorization in Python can greatly enhance efficiency and eliminate the frustration of waiting for slow processes to finish.\n",
    "\n",
    "### Why Vectorization?\n",
    "Vectorization is a method used to enhance the performance of Python code by eliminating the need for loops. This technique can significantly reduce the execution time of the code. \n",
    "\n",
    "When iterating over an array or any data structure in Python, there is a significant overhead involved. By utilizing vectorized operations in NumPy, the looping is delegated to highly optimized C and Fortran functions, resulting in faster and more efficient Python code.\n",
    "\n",
    "To illustrate the benefits of vectorization, let's consider some examples comparing classical methods to the vectorization technique:\n",
    "\n",
    "- The outer(a, b) function calculates the outer product of two vectors.\n",
    "- The multiply(a, b) function calculates the matrix product of two arrays.\n",
    "- The dot(a, b) function calculates the dot product of two arrays.\n",
    "- The zeros((n, m)) function creates a matrix of specified shape and type, filled with zeros.\n"
   ]
  },
  {
   "cell_type": "markdown",
   "id": "9ae1df52-8102-4eb5-9a0b-d37ef34ebe2e",
   "metadata": {},
   "source": [
    "# 4. USE CASEs\n",
    "### 1. Calculating the SUM of Numbers\n",
    "Initially, let's examine a basic scenario where we calculate the total of numbers by utilizing loops and Vectorization in Python."
   ]
  },
  {
   "cell_type": "code",
   "execution_count": 3,
   "id": "7f3df615-32cb-4b6c-a4f4-36ee136ff90c",
   "metadata": {},
   "outputs": [
    {
     "name": "stdout",
     "output_type": "stream",
     "text": [
      "sum is:1124999250000\n",
      "0.249786376953125\n"
     ]
    }
   ],
   "source": [
    "# Using Loop\n",
    "\n",
    "import time \n",
    "start = time.time()\n",
    "\n",
    "# iterative sum\n",
    "total = 0\n",
    "# iterating through 1.5 Million numbers\n",
    "for item in range(0, 1500000):\n",
    "    total = total + item\n",
    "\n",
    "print('sum is:' + str(total))\n",
    "end = time.time()\n",
    "print(end - start)"
   ]
  },
  {
   "cell_type": "code",
   "execution_count": 6,
   "id": "e496281a-aaf8-4dd9-a715-47cdf92527aa",
   "metadata": {},
   "outputs": [
    {
     "name": "stdout",
     "output_type": "stream",
     "text": [
      "-282181552\n",
      "0.0029926300048828125\n"
     ]
    }
   ],
   "source": [
    "# Using Vectorization\n",
    "\n",
    "import numpy as np\n",
    "\n",
    "start = time.time()\n",
    "# vectorized sum - using numpy for vectorization\n",
    "# np.arange create the sequence of numbers from 0 to 1499999\n",
    "print(np.sum(np.arange(1500000)))\n",
    "end = time.time()\n",
    "print(end - start)"
   ]
  },
  {
   "cell_type": "markdown",
   "id": "6b6ca14a-5ef4-4ffa-b22a-57ada000b53f",
   "metadata": {},
   "source": [
    "##### Observation: Vectorization was significantly faster, approximately 18 times quicker than iteration with the range function. This performance gap will be even more pronounced when dealing with Pandas DataFrame.\n"
   ]
  },
  {
   "cell_type": "markdown",
   "id": "6f0f04ba-c3f0-4323-b48a-86995addeb0d",
   "metadata": {},
   "source": [
    "### 2: utilize mathematical operations on DataFrame\n",
    "The developers in Data Science utilize mathematical operations on DataFrame. They often resort to loops to generate new derived columns.\n",
    "\n",
    "In the instance below, we demonstrate how Vectorization can efficiently replace loops for these scenarios.\n",
    "\n",
    "### Generating the DataFrame\n",
    "- A DataFrame represents tabular data structured in rows and columns.\n",
    "- We are constructing a pandas DataFrame with  random values ranging from 0 to 50."
   ]
  },
  {
   "cell_type": "code",
   "execution_count": 11,
   "id": "e766e0c4-10d4-44cc-b952-72cd1df7f5e4",
   "metadata": {},
   "outputs": [
    {
     "data": {
      "text/html": [
       "<div>\n",
       "<style scoped>\n",
       "    .dataframe tbody tr th:only-of-type {\n",
       "        vertical-align: middle;\n",
       "    }\n",
       "\n",
       "    .dataframe tbody tr th {\n",
       "        vertical-align: top;\n",
       "    }\n",
       "\n",
       "    .dataframe thead th {\n",
       "        text-align: right;\n",
       "    }\n",
       "</style>\n",
       "<table border=\"1\" class=\"dataframe\">\n",
       "  <thead>\n",
       "    <tr style=\"text-align: right;\">\n",
       "      <th></th>\n",
       "      <th>a</th>\n",
       "      <th>b</th>\n",
       "      <th>c</th>\n",
       "      <th>d</th>\n",
       "    </tr>\n",
       "  </thead>\n",
       "  <tbody>\n",
       "    <tr>\n",
       "      <th>0</th>\n",
       "      <td>17</td>\n",
       "      <td>34</td>\n",
       "      <td>26</td>\n",
       "      <td>15</td>\n",
       "    </tr>\n",
       "    <tr>\n",
       "      <th>1</th>\n",
       "      <td>4</td>\n",
       "      <td>8</td>\n",
       "      <td>16</td>\n",
       "      <td>0</td>\n",
       "    </tr>\n",
       "    <tr>\n",
       "      <th>2</th>\n",
       "      <td>8</td>\n",
       "      <td>44</td>\n",
       "      <td>20</td>\n",
       "      <td>41</td>\n",
       "    </tr>\n",
       "    <tr>\n",
       "      <th>3</th>\n",
       "      <td>1</td>\n",
       "      <td>5</td>\n",
       "      <td>49</td>\n",
       "      <td>14</td>\n",
       "    </tr>\n",
       "    <tr>\n",
       "      <th>4</th>\n",
       "      <td>8</td>\n",
       "      <td>42</td>\n",
       "      <td>29</td>\n",
       "      <td>49</td>\n",
       "    </tr>\n",
       "  </tbody>\n",
       "</table>\n",
       "</div>"
      ],
      "text/plain": [
       "    a   b   c   d\n",
       "0  17  34  26  15\n",
       "1   4   8  16   0\n",
       "2   8  44  20  41\n",
       "3   1   5  49  14\n",
       "4   8  42  29  49"
      ]
     },
     "execution_count": 11,
     "metadata": {},
     "output_type": "execute_result"
    }
   ],
   "source": [
    "import numpy as np\n",
    "import pandas as pd\n",
    "df = pd.DataFrame(np.random.randint(0, 50, size=(100000, 4)), columns=('a','b','c','d'))\n",
    "df.shape\n",
    "# (100000, 5)\n",
    "df.head()"
   ]
  },
  {
   "cell_type": "code",
   "execution_count": 12,
   "id": "b6b7245e-8660-40ec-a6eb-a1daaf2b0b64",
   "metadata": {},
   "outputs": [
    {
     "name": "stderr",
     "output_type": "stream",
     "text": [
      "C:\\Users\\Sarmita\\AppData\\Local\\Temp\\ipykernel_21784\\1712237124.py:8: RuntimeWarning: divide by zero encountered in scalar divide\n",
      "  df.at[idx,'ratio'] = 100 * (row['d'] / row['c'])\n",
      "C:\\Users\\Sarmita\\AppData\\Local\\Temp\\ipykernel_21784\\1712237124.py:8: RuntimeWarning: invalid value encountered in scalar divide\n",
      "  df.at[idx,'ratio'] = 100 * (row['d'] / row['c'])\n"
     ]
    },
    {
     "name": "stdout",
     "output_type": "stream",
     "text": [
      "9.743719339370728\n"
     ]
    }
   ],
   "source": [
    "# Using Loop\n",
    "import time \n",
    "start = time.time()\n",
    "\n",
    "# Iterating through DataFrame using iterrows\n",
    "for idx, row in df.iterrows():\n",
    "    # creating a new column \n",
    "    df.at[idx,'ratio'] = 100 * (row['d'] / row['c'])  \n",
    "end = time.time()\n",
    "print(end - start)\n"
   ]
  },
  {
   "cell_type": "markdown",
   "id": "62df042f-c16d-43c3-87fc-0e404f56162d",
   "metadata": {},
   "source": [
    "##### Observation: A notable enhancement is observed when utilizing DataFrame, as the Vectorization operation is nearly 1000 times quicker than loops in Python."
   ]
  },
  {
   "cell_type": "markdown",
   "id": "7b939cb0-2f15-4eab-8869-8da443f825c7",
   "metadata": {},
   "source": [
    "### 3: If-else Statements \r\n",
    "In our data analysis tasks, we often encounter situations where we need to apply 'If-else' logic. However, in Python, we can simplify these logic operations by utilizing Vectorization operations.\r\n",
    "\r\n",
    "To illustrate this concept, let's consider the following example using the DataFrame from use case 2:\r\n",
    "\r\n",
    "Suppose we need to generate a new column 'e' by applying certain conditions to the existing column 'a'."
   ]
  },
  {
   "cell_type": "code",
   "execution_count": 14,
   "id": "9a6d6f11-f95d-4aa4-ba46-8bc1567d7355",
   "metadata": {},
   "outputs": [
    {
     "name": "stdout",
     "output_type": "stream",
     "text": [
      "13.707904577255249\n"
     ]
    }
   ],
   "source": [
    "# Using Loop\n",
    "\n",
    "import time \n",
    "start = time.time()\n",
    "\n",
    "# Iterating through DataFrame using iterrows\n",
    "for idx, row in df.iterrows():\n",
    "    if row.a == 0:\n",
    "        df.at[idx,'e'] = row.d    \n",
    "    elif (row.a <= 25) & (row.a > 0):\n",
    "        df.at[idx,'e'] = (row.b)-(row.c)    \n",
    "    else:\n",
    "        df.at[idx,'e'] = row.b + row.c\n",
    "end = time.time()\n",
    "print(end - start)"
   ]
  },
  {
   "cell_type": "code",
   "execution_count": 16,
   "id": "1a841255-1587-46e1-bab6-ed97da21930a",
   "metadata": {},
   "outputs": [
    {
     "name": "stdout",
     "output_type": "stream",
     "text": [
      "0.015050649642944336\n"
     ]
    }
   ],
   "source": [
    "# using vectorization \n",
    "\n",
    "start = time.time()\n",
    "df['e'] = df['b'] + df['c']\n",
    "df.loc[df['a'] <= 25, 'e'] = df['b'] -df['c']\n",
    "df.loc[df['a']==0, 'e'] = df['d']\n",
    "end = time.time()\n",
    "print(end - start)"
   ]
  },
  {
   "cell_type": "markdown",
   "id": "945054ad-e576-4a9a-bb1a-8498e79e7cd0",
   "metadata": {},
   "source": [
    "##### Observation: The Vectorization operation is 600 times faster than the Python loops with if-else statements in terms of time taken."
   ]
  },
  {
   "attachments": {},
   "cell_type": "markdown",
   "id": "cb49ba01-c631-4b09-9372-58b9a0983f76",
   "metadata": {},
   "source": [
    "### 4: Dot Product\n",
    "The dot product, also referred to as the inner product, is an algebraic operation that involves multiplying two vectors of equal length to obtain a single scalar value.\r\n",
    "\r\n",
    "When applying the dot product to two matrices, a and b, of the same length, the process involves taking the transpose of the first matrix, denoted as a', and then performing matrix multiplication with the second matrix, b.\n"
   ]
  },
  {
   "cell_type": "code",
   "execution_count": 31,
   "id": "2c791b94-e430-46eb-a2ea-64944baf047a",
   "metadata": {},
   "outputs": [
    {
     "name": "stdout",
     "output_type": "stream",
     "text": [
      "classic_dot_product = 104164166675000.0\n",
      "Computation time using loops = 31.25ms\n",
      "\n",
      "vectorised_dot_product = 104164166675000\n",
      "Computation time using vectorization = 0.0\n"
     ]
    }
   ],
   "source": [
    "import time\n",
    "import numpy\n",
    "import array\n",
    "\n",
    "# a and b is an array of array with int of 8 bytes size\n",
    "\n",
    "a = array.array('q')\n",
    "for i in range(50000):\n",
    "    a.append(i);\n",
    "    b = array.array('q')\n",
    "for i in range(50000, 100000):\n",
    "    b.append(i)\n",
    "\n",
    "# classic dot product of vectors implementation\n",
    "\n",
    "start = time.process_time()\n",
    "classic_dot_product = 0.0;\n",
    "\n",
    "for i in range(len(a)):\n",
    "    classic_dot_product += a[i] * b[i]\n",
    "\n",
    "end = time.process_time()\n",
    "print(\"classic_dot_product = \" + str(classic_dot_product));\n",
    "\n",
    "print(\"Computation time using loops = \" + str(1000*(end -start)) + \"ms\")\n",
    "\n",
    "vectorised_start_time = time.process_time()\n",
    "vectorised_dot_product = numpy.dot(a, b)\n",
    "vectorised_end_time = time.process_time()\n",
    "print(\"\\nvectorised_dot_product = \" +str(vectorised_dot_product))\n",
    "''\n",
    "print(\"Computation time using vectorization = \"+str(1000*(vectorised_end_time-vectorised_start_time)))"
   ]
  },
  {
   "cell_type": "markdown",
   "id": "d4871454-3ba1-4a56-9cd8-ae054d9ae4e1",
   "metadata": {},
   "source": [
    "# 5. Conclusion\n",
    "Inefficient code is a burden that cannot be overlooked, whether it involves disease detection, electric grid modeling, or any other data processing or analysis tasks performed using Python. Debugging minor changes alone can consume excessive valuable time if it takes 30 minutes or more to execute our code. Slow-running tasks consume valuable time during the development process, hinder user experience, and escalate computational expenses. Enhancing the efficiency of our code to accelerate iterations, ensure user satisfaction, and maintain adherence to our budgetary constraints.\n",
    "\n"
   ]
  },
  {
   "cell_type": "code",
   "execution_count": null,
   "id": "7d99d144-ee05-49a3-bddb-394a73132d28",
   "metadata": {},
   "outputs": [],
   "source": []
  }
 ],
 "metadata": {
  "kernelspec": {
   "display_name": "Python 3 (ipykernel)",
   "language": "python",
   "name": "python3"
  },
  "language_info": {
   "codemirror_mode": {
    "name": "ipython",
    "version": 3
   },
   "file_extension": ".py",
   "mimetype": "text/x-python",
   "name": "python",
   "nbconvert_exporter": "python",
   "pygments_lexer": "ipython3",
   "version": "3.11.7"
  },
  "widgets": {
   "application/vnd.jupyter.widget-state+json": {
    "state": {},
    "version_major": 2,
    "version_minor": 0
   }
  }
 },
 "nbformat": 4,
 "nbformat_minor": 5
}
